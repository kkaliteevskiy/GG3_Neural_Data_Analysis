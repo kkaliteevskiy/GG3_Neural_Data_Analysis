{
 "cells": [
  {
   "cell_type": "code",
   "execution_count": 1,
   "metadata": {},
   "outputs": [],
   "source": [
    "from models import *\n",
    "import numpy as np\n",
    "import matplotlib.pyplot as plt\n",
    "from inference import *"
   ]
  },
  {
   "cell_type": "code",
   "execution_count": 2,
   "metadata": {},
   "outputs": [],
   "source": [
    "# Hyperparameters\n",
    "K = 100\n",
    "T = 100\n",
    "M = 30\n",
    "x0 = 0.2\n",
    "Rh = 50\n",
    "N_trials = 1\n",
    "\n",
    "betas = np.linspace(0, 4, M+1)\n",
    "betas = [(betas[i]+betas[i+1])/2 for i in range(M)]\n",
    "log_sigmas = np.linspace(np.log(0.04), np.log(4), M+1)\n",
    "sigmas = np.exp([(log_sigmas[i]+log_sigmas[i+1])/2 for i in range(M)])\n",
    "rs = np.arange(1,11,1)\n",
    "ms = np.linspace(0,T,M).astype(int)\n",
    "x0s = np.linspace(0, 0.5, M)"
   ]
  },
  {
   "cell_type": "markdown",
   "metadata": {},
   "source": [
    "### Task 3.1\n"
   ]
  },
  {
   "cell_type": "code",
   "execution_count": 3,
   "metadata": {},
   "outputs": [],
   "source": [
    "x0 = 0.2\n",
    "rhmm = HMM_Ramp_Model(beta = betas[15], sigma=sigmas[15], x0=x0, Rh = 50, T = T, K = 100)\n",
    "shmm = HMM_Step_Model(m = 10, r = 10, x0 = x0, Rh = 50, T = T)"
   ]
  },
  {
   "cell_type": "code",
   "execution_count": 4,
   "metadata": {},
   "outputs": [],
   "source": [
    "spikes_ramp, xs_ramp, rates_ramp = rhmm.simulate(Ntrials=N_trials)\n",
    "spikes_step, xs_step, rates_step = shmm.simulate(Ntrials=N_trials)"
   ]
  },
  {
   "cell_type": "code",
   "execution_count": 5,
   "metadata": {},
   "outputs": [],
   "source": [
    "# true_transitions = []\n",
    "# for x in xs_step:\n",
    "#     for i in range(len(x)):\n",
    "#         if x[i] == shmm.r:\n",
    "#             true_transitions.append(i)\n",
    "#             break"
   ]
  },
  {
   "cell_type": "code",
   "execution_count": 6,
   "metadata": {},
   "outputs": [],
   "source": [
    "# print('p  =  ', shmm.p, ', min', np.min(xs_step[:,0]))\n",
    "# plt.hist(xs_step[:,0], bins = np.linspace(np.min(xs_step), np.max(xs_step), 20))"
   ]
  },
  {
   "cell_type": "code",
   "execution_count": 5,
   "metadata": {},
   "outputs": [
    {
     "data": {
      "text/plain": [
       "(100, 10)"
      ]
     },
     "execution_count": 5,
     "metadata": {},
     "output_type": "execute_result"
    }
   ],
   "source": [
    "ll_step = poisson_logpdf(spikes_step, shmm.lambdas)\n",
    "ll_ramp = poisson_logpdf(spikes_ramp, rhmm.lambdas)\n",
    "ll_step.shape\n"
   ]
  },
  {
   "cell_type": "markdown",
   "metadata": {},
   "source": [
    "### THIS IS IMPORTANT : correct for the state"
   ]
  },
  {
   "cell_type": "code",
   "execution_count": 6,
   "metadata": {},
   "outputs": [
    {
     "name": "stdout",
     "output_type": "stream",
     "text": [
      "(109, 10)\n"
     ]
    }
   ],
   "source": [
    "# ll_step = np.concatenate([np.zeros((N_trials, T, shmm.r)), ll_step], axis = 2)\n",
    "ll_step_ = np.concatenate([np.zeros((shmm.r -1, shmm.r)), ll_step], axis = 0)\n",
    "print(ll_step_.shape)\n"
   ]
  },
  {
   "cell_type": "code",
   "execution_count": 48,
   "metadata": {},
   "outputs": [
    {
     "data": {
      "text/plain": [
       "50"
      ]
     },
     "execution_count": 48,
     "metadata": {},
     "output_type": "execute_result"
    }
   ],
   "source": [
    "shmm.Rh"
   ]
  },
  {
   "cell_type": "code",
   "execution_count": 8,
   "metadata": {},
   "outputs": [],
   "source": [
    "normalizer_ramp = hmm_normalizer(rhmm.pi0, rhmm.P, ll_ramp)\n",
    "normalizer_step = hmm_normalizer(shmm.pi0, shmm.P, ll_step)"
   ]
  },
  {
   "cell_type": "markdown",
   "metadata": {},
   "source": []
  },
  {
   "cell_type": "code",
   "execution_count": 9,
   "metadata": {},
   "outputs": [
    {
     "name": "stdout",
     "output_type": "stream",
     "text": [
      "-82.01920461450335 -104.40861532459215\n"
     ]
    }
   ],
   "source": [
    "print(normalizer_ramp, normalizer_step)\n",
    "# sigmas"
   ]
  },
  {
   "cell_type": "code",
   "execution_count": 84,
   "metadata": {},
   "outputs": [],
   "source": [
    "ll_step_test = np.zeros((M,M))\n",
    "ll_ramp_test = np.zeros((M,M))"
   ]
  },
  {
   "cell_type": "code",
   "execution_count": 85,
   "metadata": {},
   "outputs": [],
   "source": [
    "beta_true = 1.5\n",
    "sigma_true = 0.5\n",
    "\n",
    "# create set of trials\n",
    "rhmm_true = HMM_Ramp_Model(beta = beta_true, sigma=sigma_true, x0=x0, Rh = Rh, T = T, K = 100) \n",
    "spikes_true_temp, xs_true, rates_true = rhmm_true.simulate(Ntrials=N_trials)\n",
    "spikes_true = spikes_true_temp.reshape((1, T))\n"
   ]
  },
  {
   "cell_type": "code",
   "execution_count": 86,
   "metadata": {},
   "outputs": [],
   "source": [
    "ll_step_test = np.zeros((M,M))\n",
    "ll_ramp_test = np.zeros((M,M))\n",
    "for i, beta in enumerate(betas):\n",
    "    for j, sigma in enumerate(sigmas):\n",
    "        rhmm = HMM_Ramp_Model(beta = beta, sigma=sigma, x0=x0, Rh = Rh, T = T, K = 100)\n",
    "        for spike in spikes_true:\n",
    "            # ll_step = poisson_logpdf(spike, shmm.lambdas)\n",
    "            # ll_step_test[i,j] += hmm_normalizer(shmm.pi0, shmm.P, poisson_logpdf(spike, shmm.lambdas))\n",
    "            ll_ramp = poisson_logpdf(spike, rhmm.lambdas)\n",
    "            ll_ramp_test[i,j] += hmm_normalizer(rhmm.pi0, rhmm.P, poisson_logpdf(spike, rhmm.lambdas))\n",
    "            \n"
   ]
  },
  {
   "cell_type": "code",
   "execution_count": 87,
   "metadata": {},
   "outputs": [
    {
     "name": "stdout",
     "output_type": "stream",
     "text": [
      "1.4 0.9305220268614505\n"
     ]
    },
    {
     "data": {
      "image/png": "[encoded data removed]",
      "text/plain": [
       "<Figure size 640x480 with 1 Axes>"
      ]
     },
     "metadata": {},
     "output_type": "display_data"
    }
   ],
   "source": [
    "plt.plot(rates_true)\n",
    "[i], [j]= np.where(ll_ramp_test == np.max(ll_ramp_test))\n",
    "print(betas[i],sigmas[j])"
   ]
  },
  {
   "cell_type": "code",
   "execution_count": 88,
   "metadata": {},
   "outputs": [
    {
     "data": {
      "text/plain": [
       "<matplotlib.collections.PathCollection at 0x1822f1b2f90>"
      ]
     },
     "execution_count": 88,
     "metadata": {},
     "output_type": "execute_result"
    },
    {
     "data": {
      "image/png": "[encoded data removed]",
      "text/plain": [
       "<Figure size 640x480 with 2 Axes>"
      ]
     },
     "metadata": {},
     "output_type": "display_data"
    }
   ],
   "source": [
    "ramp_test_prob = np.exp(ll_ramp_test)/np.sum(np.exp(ll_ramp_test))\n",
    "step_test_prob = np.exp(ll_step_test)/np.sum(np.exp(ll_step_test))\n",
    "plt.imshow(ramp_test_prob, origin = 'lower', interpolation='none', vmin = None)\n",
    "plt.colorbar()\n",
    "plt.scatter(12,19, color = 'r')\n"
   ]
  },
  {
   "cell_type": "code",
   "execution_count": 168,
   "metadata": {},
   "outputs": [],
   "source": [
    "m_true = 50\n",
    "r_true = 5\n",
    "\n",
    "# create set of trials\n",
    "shmm_true = HMM_Step_Model(m = m_true, r = r_true, x0=x0, Rh = Rh, T = T) \n",
    "spikes_true, xs_true, rates_true = shmm_true.simulate(Ntrials=10)\n"
   ]
  },
  {
   "cell_type": "code",
   "execution_count": 169,
   "metadata": {},
   "outputs": [
    {
     "data": {
      "text/plain": [
       "<matplotlib.collections.PathCollection at 0x18234bceea0>"
      ]
     },
     "execution_count": 169,
     "metadata": {},
     "output_type": "execute_result"
    },
    {
     "data": {
      "image/png": "[encoded data removed]",
      "text/plain": [
       "<Figure size 640x480 with 2 Axes>"
      ]
     },
     "metadata": {},
     "output_type": "display_data"
    }
   ],
   "source": [
    "\n",
    "# spikes_true = spikes_true_temp.reshape((1, T))\n",
    "ll_step_test = np.zeros((len(ms), len(rs)))\n",
    "# indexe by [m_idx, r_idx]\n",
    "for i, m in enumerate(ms):\n",
    "    for j, r in enumerate(rs):\n",
    "        shmm = HMM_Step_Model(m = m, r = r, x0=x0, Rh = Rh, T = T)\n",
    "        for spike in spikes_true:\n",
    "            ll_step =  np.concatenate([np.zeros((shmm.r - 1, shmm.r)), poisson_logpdf(spike, shmm.lambdas)], axis = 0)#poisson_logpdf(spike, shmm.lambdas)#\n",
    "            # ll_ramp = poisson_logpdf(spike, rhmm.lambdas)\n",
    "            # ll_ramp_test[i,j] += hmm_normalizer(rhmm.pi0, rhmm.P, poisson_logpdf(spike, rhmm.lambdas))\n",
    "            ll_step_test[i,j] += hmm_normalizer(shmm.pi0, shmm.P,ll_step)# hmm_normalizer(shmm.pi0, shmm.P, np.concatenate([np.zeros((shmm.r - 1, shmm.r)), poisson_logpdf(spike, shmm.lambdas)], axis = 0))\n",
    "\n",
    "prob_step = np.exp(ll_step_test)/np.sum(np.exp(ll_step_test))\n",
    "\n",
    "fig, ax = plt.subplots()\n",
    "cax = plt.imshow(prob_step, origin = 'lower', aspect= 'auto', interpolation='none')\n",
    "ax.set_xticks(np.arange(len(rs)))\n",
    "ax.set_yticks(np.arange(len(ms))[::3])\n",
    "ax.set_xticklabels(rs)\n",
    "ax.set_yticklabels(ms[::3])\n",
    "plt.colorbar()\n",
    "plt.scatter(5, 15 , color = 'r')\n",
    "plt.scatter(4, 14.5, color = 'g')"
   ]
  },
  {
   "cell_type": "code",
   "execution_count": 165,
   "metadata": {},
   "outputs": [
    {
     "name": "stdout",
     "output_type": "stream",
     "text": [
      "(109, 10)\n"
     ]
    }
   ],
   "source": [
    "prob_not_nor = np.exp(ll_step_test)\n",
    "prob_norm = prob_not_nor/np.sum(prob_not_nor)\n",
    "print(ll_step.shape)"
   ]
  },
  {
   "cell_type": "code",
   "execution_count": 113,
   "metadata": {},
   "outputs": [
    {
     "name": "stdout",
     "output_type": "stream",
     "text": [
      "38.96977299455321 7.529509820845179\n"
     ]
    }
   ],
   "source": [
    "#indexed by [m, r]\n",
    "m_hat = np.sum([m * p for m, p in zip(ms, np.sum(prob_norm, axis = 1))])\n",
    "r_hat = np.sum([r * p for r, p in zip(rs, np.sum(prob_norm, axis = 0))])\n",
    "print(m_hat, r_hat)"
   ]
  },
  {
   "cell_type": "code",
   "execution_count": 107,
   "metadata": {},
   "outputs": [
    {
     "name": "stdout",
     "output_type": "stream",
     "text": [
      "215.66751217133432 1.8231035795362451\n"
     ]
    }
   ],
   "source": [
    "#variance of posterior\n",
    "var_m_hat = np.sum([p * (m - m_hat)**2 for m, p in zip(ms, np.sum(prob_norm, axis = 1))])\n",
    "var_r_hat = np.sum([p * (r - r_hat)**2 for r, p in zip(rs, np.sum(prob_norm, axis = 0))])\n",
    "print(var_m_hat, var_r_hat)"
   ]
  },
  {
   "cell_type": "markdown",
   "metadata": {},
   "source": [
    " Repear with $x_0$ unknown\n"
   ]
  },
  {
   "cell_type": "code",
   "execution_count": 217,
   "metadata": {},
   "outputs": [
    {
     "data": {
      "text/plain": [
       "array([ 1,  2,  3,  4,  5,  6,  7,  8,  9, 10])"
      ]
     },
     "execution_count": 217,
     "metadata": {},
     "output_type": "execute_result"
    }
   ],
   "source": [
    "rs #pohui"
   ]
  },
  {
   "cell_type": "markdown",
   "metadata": {},
   "source": [
    "### Step Model \n"
   ]
  },
  {
   "cell_type": "code",
   "execution_count": null,
   "metadata": {},
   "outputs": [],
   "source": [
    "x0_true = 0.2\n",
    "r_true = 5\n",
    "m_true = 50\n",
    "\n",
    "shmm = HMM_Step_Model(m = m_true, r = r_true, x0=x0_true, Rh = Rh, T = T)\n",
    "spikes_true, xs_true, rates_true = shmm.simulate(Ntrials=100)"
   ]
  },
  {
   "cell_type": "markdown",
   "metadata": {},
   "source": [
    "### Inferrig $x_0$"
   ]
  },
  {
   "cell_type": "code",
   "execution_count": 3,
   "metadata": {},
   "outputs": [],
   "source": [
    "x0_true = 0.2\n",
    "beta_true = 1.5\n",
    "sigma_true = 0.5\n",
    "r_true = 5\n",
    "m_true = 50\n",
    "\n",
    "K = 100\n",
    "T = 100\n",
    "M = 5\n",
    "Rh = 50\n",
    "N_trials = 1\n",
    "\n",
    "betas = np.linspace(0, 4, M+1)\n",
    "betas = [(betas[i]+betas[i+1])/2 for i in range(M)]\n",
    "# dbeta = (betas[1] - betas[0]) * np.ones(M)\n",
    "log_sigmas = np.linspace(np.log(0.04), np.log(4), M+1)\n",
    "sigmas = np.exp([(log_sigmas[i]+log_sigmas[i+1])/2 for i in range(M)])\n",
    "# dsigma = np.diff(sigmas, prepend = 0)\n",
    "\n",
    "rs = np.arange(1,11,1)\n",
    "# dr = np.ones(len(rs))\n",
    "ms = np.linspace(0,T,M).astype(int)\n",
    "# dm = np.diff(ms, prepend=0)\n",
    "x0s = np.linspace(0, 0.5, M)\n"
   ]
  },
  {
   "cell_type": "code",
   "execution_count": 273,
   "metadata": {},
   "outputs": [
    {
     "name": "stdout",
     "output_type": "stream",
     "text": [
      "[0.06339573 0.09584714 0.24075713 0.60475457 1.51907481]\n"
     ]
    }
   ],
   "source": [
    "# Create true model\n",
    "rhmm_true = HMM_Ramp_Model(beta = beta_true, sigma=sigma_true, x0=x0_true, Rh = Rh, T = T, K = 100)\n",
    "spikes_true, xs_true, rates_true = rhmm_true.simulate(Ntrials=5)\n",
    "# spikes_true = spikes_true_temp.reshape((1, T))\n",
    "# print(dsigma)"
   ]
  },
  {
   "cell_type": "code",
   "execution_count": 263,
   "metadata": {},
   "outputs": [],
   "source": [
    "ll_ramp_test = np.zeros((len(betas), len(sigmas), len(x0s)))\n",
    "\n",
    "# indexe by [m_idx, r_idx]\n",
    "for i, beta in enumerate(betas):\n",
    "    for j, sigma in enumerate(sigmas):\n",
    "        for k, x0 in enumerate(x0s):\n",
    "            rhmm = HMM_Ramp_Model(beta = beta, sigma = sigma, x0=x0, Rh = Rh, T = T, K = K)\n",
    "            for spike in spikes_true:\n",
    "                ll =  poisson_logpdf(spike, rhmm.lambdas)\n",
    "                ll_ramp_test[i,j,k] += hmm_normalizer(rhmm.pi0, rhmm.P, ll)\n",
    "\n",
    "prob_ramp = np.exp(ll_ramp_test)/np.sum(np.exp(ll_ramp_test))\n"
   ]
  },
  {
   "cell_type": "code",
   "execution_count": 267,
   "metadata": {},
   "outputs": [
    {
     "data": {
      "image/png": "[encoded data removed]",
      "text/plain": [
       "<Figure size 1000x300 with 6 Axes>"
      ]
     },
     "metadata": {},
     "output_type": "display_data"
    }
   ],
   "source": [
    "\n",
    "# Create a 5x1 grid of subplots\n",
    "fig, axs = plt.subplots(1, 5, figsize=(10, 3))\n",
    "\n",
    "# Loop through each subplot and plot the data\n",
    "v_max = np.max(prob_ramp)\n",
    "for i in range(len(x0s)):\n",
    "    t = axs[i].imshow(prob_ramp[:,:,i], cmap='viridis', origin = 'lower', vmax = v_max, vmin = 0)\n",
    "\n",
    "    # axs[i].set_title(f'Plot {i+1}')\n",
    "\n",
    "# Adjust the spacing between subplots\n",
    "fig.colorbar(t, ax = axs)\n",
    "\n",
    "# Show the plot\n",
    "plt.show()"
   ]
  },
  {
   "cell_type": "code",
   "execution_count": 265,
   "metadata": {},
   "outputs": [
    {
     "name": "stdout",
     "output_type": "stream",
     "text": [
      "2.0 0.4000000000000001 0.25\n"
     ]
    }
   ],
   "source": [
    "[i_max], [j_max], [k_max] = np.where(prob_ramp == np.max(prob_ramp))\n",
    "# prob_ramp[:,:,0] = 0\n",
    "print(betas[i_max], sigmas[j_max], x0s[k_max])"
   ]
  },
  {
   "cell_type": "markdown",
   "metadata": {},
   "source": [
    "# likelihood using ramp model"
   ]
  },
  {
   "cell_type": "code",
   "execution_count": 158,
   "metadata": {},
   "outputs": [],
   "source": [
    "# generate data usin ramp model\n",
    "x0_true = 0.2\n",
    "beta_true = 1.5\n",
    "sigma_true = 0.5\n",
    "N_trials = 5\n",
    "\n",
    "rhmm_true = HMM_Ramp_Model(beta = beta_true, sigma=sigma_true, x0=x0_true, Rh = Rh, T = T, K = 100)\n",
    "spikes_true, xs_true, rates_true = rhmm_true.simulate(Ntrials=5)\n",
    "# spikes_true = spikes_true.reshape((1, T))\n",
    "\n",
    "\n",
    "r_true = 5\n",
    "m_true = 50\n",
    "shmm = HMM_Step_Model(m = m_true, r = r_true, x0=x0_true, Rh = Rh, T = T)\n",
    "spikes_true, xs_true, rates_true = shmm.simulate(Ntrials=5)"
   ]
  },
  {
   "cell_type": "code",
   "execution_count": 159,
   "metadata": {},
   "outputs": [],
   "source": [
    "# get p(data| theta, model=ramp)\n",
    "ll_ramp = np.zeros((len(betas), len(sigmas), len(x0s))) \n",
    "for i, beta in enumerate(betas):\n",
    "    for j, sigma in enumerate(sigmas):\n",
    "        for k, x0 in enumerate(x0s):\n",
    "            rhmm = HMM_Ramp_Model(beta = beta, sigma = sigma, x0=x0, Rh = Rh, T = T, K = K)\n",
    "            for spike in spikes_true:\n",
    "                ll =  poisson_logpdf(spike, rhmm.lambdas)\n",
    "                ll_ramp[i,j,k] += hmm_normalizer(rhmm.pi0, rhmm.P, ll)\n",
    "\n"
   ]
  },
  {
   "cell_type": "code",
   "execution_count": 160,
   "metadata": {},
   "outputs": [],
   "source": [
    "# get p(data|theta, model = step)\n",
    "ll_step = np.zeros((len(ms), len(rs), len(x0s)))\n",
    "# indexe by [m_idx, r_idx]\n",
    "for i, m in enumerate(ms):\n",
    "    for j, r in enumerate(rs):\n",
    "        for k, x0 in enumerate(x0s):\n",
    "            shmm = HMM_Step_Model(m = m, r = r, x0=x0, Rh = Rh, T = T)\n",
    "            for spike in spikes_true:\n",
    "                ll =  np.concatenate([np.zeros((shmm.r - 1, shmm.r)), poisson_logpdf(spike, shmm.lambdas)], axis = 0)#poisson_logpdf(spike, shmm.lambdas)#\n",
    "                ll_step[i,j, k] += hmm_normalizer(shmm.pi0, shmm.P, ll)# hmm_normalizer(shmm.pi0, shmm.P, np.concatenate([np.zeros((shmm.r - 1, shmm.r)), poisson_logpdf(spike, shmm.lambdas)], axis = 0))\n",
    "\n",
    "\n"
   ]
  },
  {
   "cell_type": "code",
   "execution_count": 161,
   "metadata": {},
   "outputs": [],
   "source": [
    "# ramp model\n",
    "likelihood_ramp = np.sum(np.exp(ll_ramp)) * ll_ramp.size**(-1)# dtheta = dbeta * dsigma * dx0 = 1/M^3 - assumed uniform prior\n",
    "prob_ramp = np.exp(ll_ramp)/np.sum(np.exp(ll_ramp))\n",
    "\n",
    "#step\n",
    "likelihood_step = np.sum(np.exp(ll_step)) * ll_step.size**(-1)\n",
    "prob_step = np.exp(ll_step)/np.sum(np.exp(ll_step))"
   ]
  },
  {
   "cell_type": "code",
   "execution_count": 162,
   "metadata": {},
   "outputs": [
    {
     "name": "stdout",
     "output_type": "stream",
     "text": [
      "0.03863565284080605\n"
     ]
    }
   ],
   "source": [
    "print(likelihood_ramp/likelihood_step)"
   ]
  },
  {
   "cell_type": "code",
   "execution_count": 163,
   "metadata": {},
   "outputs": [],
   "source": [
    "# for rate in rates_true:\n",
    "#     plt.plot(rate, alpha = 0.5)"
   ]
  },
  {
   "cell_type": "markdown",
   "metadata": {},
   "source": [
    "add goofy ass priors"
   ]
  },
  {
   "cell_type": "code",
   "execution_count": 169,
   "metadata": {},
   "outputs": [],
   "source": [
    "from scipy.stats import multivariate_normal\n",
    "\n",
    "# Define the mean and covariance matrix\n",
    "mean_step = np.array([1.5, 0.5, 0.2])\n",
    "cov_step = np.diag([0.5, 0.5, 0.01])\n",
    "\n",
    "# Generate a multivariate Gaussian kernel\n",
    "prob_f = multivariate_normal(mean_step, cov_step)\n",
    "\n",
    "prob_kernel_ramp = np.zeros((M,M,M))\n",
    "\n",
    "for i in range(M):\n",
    "    for j in range(M):\n",
    "        for k in range(M):\n",
    "            prob_kernel_ramp[i,j,k] = prob_f.pdf([betas[i], sigmas[j], x0s[k]])\n",
    "\n",
    "prob_kernel_ramp = prob_kernel_ramp/np.sum(prob_kernel_ramp)"
   ]
  },
  {
   "cell_type": "code",
   "execution_count": 170,
   "metadata": {},
   "outputs": [
    {
     "name": "stdout",
     "output_type": "stream",
     "text": [
      "0.00023511686059796684\n"
     ]
    }
   ],
   "source": [
    "# prior for step\n",
    "mean_step = np.array([50, 5, 0.2])\n",
    "cov_step = np.diag([300, 3, 0.01])\n",
    "\n",
    "prob_f = multivariate_normal(mean_step, cov_step)\n",
    "prob_kernel_step = np.zeros((M,len(rs),M))\n",
    "\n",
    "for i in range(M):\n",
    "    for j in range(M):\n",
    "        for k in range(M):\n",
    "            prob_kernel_step[i,j,k] = prob_f.pdf([ms[i], rs[j], x0s[k]])\n",
    "\n",
    "prob_kernel_step = prob_kernel_step/np.sum(prob_kernel_step)\n",
    "\n",
    "print(prob_f.pdf([50, 5, 0.5]))"
   ]
  },
  {
   "cell_type": "code",
   "execution_count": 173,
   "metadata": {},
   "outputs": [],
   "source": [
    "# calculate posterior probality\n",
    "# ramp model\n",
    "likelihood_ramp_post_1 = np.sum(np.exp(ll_ramp) * prob_kernel_ramp) * ll_ramp.size**(-1)# dtheta = dbeta * dsigma * dx0 = 1/M^3 - assumed uniform prior\n",
    "\n",
    "#step\n",
    "likelihood_step_post_1 = np.sum(np.exp(ll_step) * prob_kernel_step) * ll_step.size**(-1)\n",
    "prob_step = np.exp(ll_step)/np.sum(np.exp(ll_step))"
   ]
  },
  {
   "cell_type": "code",
   "execution_count": 174,
   "metadata": {},
   "outputs": [
    {
     "name": "stdout",
     "output_type": "stream",
     "text": [
      "0.08652525956204903\n"
     ]
    }
   ],
   "source": [
    "print(likelihood_ramp_post_1/likelihood_step_post_1)"
   ]
  },
  {
   "cell_type": "markdown",
   "metadata": {},
   "source": [
    "offset priors"
   ]
  },
  {
   "cell_type": "code",
   "execution_count": null,
   "metadata": {},
   "outputs": [],
   "source": [
    "cov_step = np.diag([0.5, 0.5, 0.01])\n",
    "mean_step = np.array([1.5, 0.5, 0.2]) + np.sqrt(cov_step.diagonal())#offset by one std\n",
    "# Generate a multivariate Gaussian kernel\n",
    "prob_f = multivariate_normal(mean_step, cov_step)\n",
    "\n",
    "prob_kernel_ramp_off = np.zeros((M,M,M))\n",
    "\n",
    "for i in range(M):\n",
    "    for j in range(M):\n",
    "        for k in range(M):\n",
    "            prob_kernel_ramp_off[i,j,k] = prob_f.pdf([betas[i], sigmas[j], x0s[k]])\n",
    "\n",
    "prob_kernel_ramp_off = prob_kernel_ramp_off/np.sum(prob_kernel_ramp_off)"
   ]
  },
  {
   "cell_type": "code",
   "execution_count": null,
   "metadata": {},
   "outputs": [],
   "source": [
    "# prior for step\n",
    "cov_step = np.diag([300, 3, 0.01])\n",
    "mean_step = np.array([50, 5, 0.2]) + np.sqrt(cov_step.diagonal())#offset by one std\n",
    "\n",
    "prob_f = multivariate_normal(mean_step, cov_step)\n",
    "prob_kernel_step_off = np.zeros((M,len(rs),M))\n",
    "\n",
    "for i in range(M):\n",
    "    for j in range(M):\n",
    "        for k in range(M):\n",
    "            prob_kernel_step_off[i,j,k] = prob_f.pdf([ms[i], rs[j], x0s[k]])\n",
    "\n",
    "prob_kernel_step_off = prob_kernel_step_off/np.sum(prob_kernel_step_off)"
   ]
  }
 ],
 "metadata": {
  "kernelspec": {
   "display_name": "Python 3",
   "language": "python",
   "name": "python3"
  },
  "language_info": {
   "codemirror_mode": {
    "name": "ipython",
    "version": 3
   },
   "file_extension": ".py",
   "mimetype": "text/x-python",
   "name": "python",
   "nbconvert_exporter": "python",
   "pygments_lexer": "ipython3",
   "version": "3.12.0"
  }
 },
 "nbformat": 4,
 "nbformat_minor": 2
}
